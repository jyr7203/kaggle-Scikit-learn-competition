{
  "nbformat": 4,
  "nbformat_minor": 0,
  "metadata": {
    "colab": {
      "private_outputs": true,
      "provenance": []
    },
    "kernelspec": {
      "name": "python3",
      "display_name": "Python 3"
    },
    "language_info": {
      "name": "python"
    }
  },
  "cells": [
    {
      "cell_type": "code",
      "execution_count": null,
      "metadata": {
        "id": "8JHwCJfGpGo2"
      },
      "outputs": [],
      "source": [
        "import pandas as pd\n",
        "import numpy as np\n",
        "import os"
      ]
    },
    {
      "cell_type": "code",
      "source": [
        "from google.colab import drive\n",
        "drive.mount('/content/drive')"
      ],
      "metadata": {
        "id": "4bRszkW8rNEE"
      },
      "execution_count": null,
      "outputs": []
    },
    {
      "cell_type": "code",
      "source": [
        "train = pd.read_csv('../content/drive/MyDrive/london/train.csv', header=None, index_col=None)\n",
        "test = pd.read_csv('../content/drive/MyDrive/london/test.csv', header=None, index_col=None)\n",
        "trainlabels = pd.read_csv('../content/drive/MyDrive/london/trainLabels.csv', header=None, index_col=None)\n",
        "\n",
        "train.head()"
      ],
      "metadata": {
        "id": "RxNlX-8SrrCP"
      },
      "execution_count": null,
      "outputs": []
    },
    {
      "cell_type": "code",
      "source": [
        "# Converting data into NumPy arrays\n",
        "train = np.asarray(train)\n",
        "trainlabels = np.asarray(trainlabels)\n",
        "test = np.asarray(test)\n",
        "trainlabels = trainlabels.ravel() # 1차원 배열"
      ],
      "metadata": {
        "id": "VxVX4WjxpI4Q"
      },
      "execution_count": null,
      "outputs": []
    },
    {
      "cell_type": "code",
      "source": [
        "print('train Shape:', train.shape, ',trainlabels Shape:', trainlabels.shape, ',test Shape:', test.shape)"
      ],
      "metadata": {
        "id": "EgsPbEMCpacI"
      },
      "execution_count": null,
      "outputs": []
    },
    {
      "cell_type": "markdown",
      "source": [
        "gradient boosting classifier 불러오기"
      ],
      "metadata": {
        "id": "TubH8b3q6UGX"
      }
    },
    {
      "cell_type": "code",
      "source": [
        "from sklearn.ensemble import AdaBoostClassifier, GradientBoostingClassifier\n",
        "from sklearn.model_selection import GridSearchCV\n",
        "from sklearn.model_selection import cross_val_score\n",
        "from sklearn.metrics import accuracy_score"
      ],
      "metadata": {
        "id": "yArUZdVpzcZp"
      },
      "execution_count": null,
      "outputs": []
    },
    {
      "cell_type": "markdown",
      "source": [
        "- train, test, train label 데이터가 있기 때문에 split하지 않음\n",
        "- train과 train label 데이터로 훈련시켜 모델을 생성\n",
        "- 후에 생성 모델로 predict한 값과 test 데이터 값을 이용해 예측 성능을 확인"
      ],
      "metadata": {
        "id": "ajgGV9go8ylf"
      }
    },
    {
      "cell_type": "code",
      "source": [
        "gb_null = GradientBoostingClassifier() # gbm 모델 초기화\n",
        "gb_null.fit(train, trainlabels) # 모델 학습\n",
        "grid_search_gb_null = GridSearchCV(gb_null, param_grid={}, scoring='accuracy', cv=10).fit(train, trainlabels) # train label이 없기 때문에 cross validation을 이용해 정확도 향상\n",
        "gb_best_null = grid_search_gb_null.best_estimator_\n",
        "print('Best estimator gbm_null:', grid_search_gb_null.best_estimator_)\n",
        "print('Best parameters gmb_null:', grid_search_gb_null.best_params_)"
      ],
      "metadata": {
        "id": "38GZ6Jyp6TVf"
      },
      "execution_count": null,
      "outputs": []
    },
    {
      "cell_type": "markdown",
      "source": [
        "파라미터 설정을 하지 않았기 때문에 best parameter가 나타나지 않음을 알 수 있음."
      ],
      "metadata": {
        "id": "Ns8uhoZxlbtu"
      }
    },
    {
      "cell_type": "code",
      "source": [
        "gb_best_null.fit(train, trainlabels) # best 모델 학습\n",
        "print(gb_best_null.predict(test)[:10]) # best 모델 예측 결과 10개 출력\n",
        "print(gb_best_null.predict(test))\n",
        "\n",
        "## GridSearchCV로 탐색한 best 하이퍼파라미터 조합의 prediction\n",
        "pred = gb_best_null.predict(test)\n",
        "print('Score for gbm:', cross_val_score(gb_best_null, train, trainlabels, cv=10, scoring='accuracy').mean()) #교차 검증을 통한 성능평가\n",
        "print('best estimator gbm:', grid_search_gb_null.best_estimator_, 'Best Score', grid_search_gb_null.best_estimator_.score(train, trainlabels)) #훈련 데이터에 대한 단일 성능 지표"
      ],
      "metadata": {
        "id": "OAoHpLLOhydW"
      },
      "execution_count": null,
      "outputs": []
    },
    {
      "cell_type": "markdown",
      "source": [
        "### 하이퍼파라미터 튜닝"
      ],
      "metadata": {
        "id": "_B6efGnAljAU"
      }
    },
    {
      "cell_type": "code",
      "source": [
        "from sklearn.ensemble import GradientBoostingClassifier\n",
        "from sklearn.model_selection import GridSearchCV\n",
        "\n",
        "# Gradient Boosting Classifier 모델 초기화\n",
        "gb = GradientBoostingClassifier()\n",
        "\n",
        "# GridSearchCV를 사용하여 최적의 하이퍼파라미터 조합 탐색을 위한 하이퍼파라미터 그리드 설정\n",
        "param_grid = {\n",
        "    'n_estimators': [50, 100, 150],\n",
        "    'learning_rate': [0.01, 0.1, 0.5],\n",
        "    'max_depth': [3, 5, 7],\n",
        "}\n",
        "\n",
        "# GridSearchCV를 사용하여 최적의 하이퍼파라미터 조합 탐색\n",
        "grid_search_gb = GridSearchCV(gb, param_grid=param_grid, scoring='accuracy', cv=10)\n",
        "grid_search_gb.fit(train, trainlabels)\n",
        "\n",
        "# 최적의 파라미터 출력\n",
        "print('Best parameters:', grid_search_gb.best_params_)"
      ],
      "metadata": {
        "id": "lvAPaG_4ic6s"
      },
      "execution_count": null,
      "outputs": []
    },
    {
      "cell_type": "markdown",
      "source": [
        "n_estimator이 클수록, learning rate는 높을수록, max_depth가 깊을수록 성능이 좋은 모델이 도출됨을 알 수 있음.\n",
        "하이퍼파라미터 탐색을 하니 결과 도출까지 시간이 오래 걸림.(이는 gbm의 단점이기도 함)"
      ],
      "metadata": {
        "id": "ofFly0cbk3jU"
      }
    },
    {
      "cell_type": "code",
      "source": [
        "gb_best = grid_search_gb.best_estimator_"
      ],
      "metadata": {
        "id": "bZ34kkGpnL5I"
      },
      "execution_count": null,
      "outputs": []
    },
    {
      "cell_type": "code",
      "source": [
        "gb_best.fit(train, trainlabels) # best 모델 학습\n",
        "print(gb_best.predict(test)[:10]) # best 모델 예측 결과 10개 출력\n",
        "\n",
        "## GridSearchCV로 탐색한 best 하이퍼파라미터 조합의 prediction\n",
        "pred1 = gb_best.predict(test)\n",
        "print('Score for gbm:', cross_val_score(gb_best, train, trainlabels, cv=10, scoring='accuracy').mean()) #교차 검증을 통한 성능평가\n",
        "print('best estimator gbm:', grid_search_gb.best_estimator_, 'Best Score', grid_search_gb.best_estimator_.score(train, trainlabels)) #훈련 데이터에 대한 단일 성능 지표"
      ],
      "metadata": {
        "id": "rO0vUn_Rl3jA"
      },
      "execution_count": null,
      "outputs": []
    },
    {
      "cell_type": "code",
      "source": [
        "print(gb_best.predict(test)) #best model을 통해 예측한 testlabel로 캐글에 올린 결과 accuracy 0.885 나옴"
      ],
      "metadata": {
        "id": "xVvIHPGOr_RB"
      },
      "execution_count": null,
      "outputs": []
    },
    {
      "cell_type": "markdown",
      "source": [
        "하이퍼파라미터 조정을 한 후 모델을 학습시킨 결과 성능이 향상됨.\n",
        "best score이 0.985에서 1로 향상."
      ],
      "metadata": {
        "id": "WHxSXB8On8He"
      }
    },
    {
      "cell_type": "code",
      "source": [
        "submit_dict = {'Id': np.arange(1, len(pred1) + 1), 'Solution': pd.Series(pred1)}\n",
        "my_submission = pd.DataFrame(submit_dict)\n",
        "my_submission.to_csv('submission.csv', index=False)"
      ],
      "metadata": {
        "id": "degDM9GapmIZ"
      },
      "execution_count": null,
      "outputs": []
    },
    {
      "cell_type": "code",
      "source": [
        "from google.colab import files\n",
        "files.download('submission.csv')"
      ],
      "metadata": {
        "id": "VwHJFVY2sgeE"
      },
      "execution_count": null,
      "outputs": []
    },
    {
      "cell_type": "markdown",
      "source": [
        "### 다른 하이퍼파라미터 추가 후 모델 학습\n",
        "(하이퍼파라미터 종류가 많아 학습 시간이 오래걸림)"
      ],
      "metadata": {
        "id": "mMY5Sq9Uo7kN"
      }
    },
    {
      "cell_type": "code",
      "source": [
        "from sklearn.ensemble import GradientBoostingClassifier\n",
        "from sklearn.model_selection import GridSearchCV\n",
        "\n",
        "# Gradient Boosting Classifier 모델 초기화\n",
        "gb_1 = GradientBoostingClassifier()\n",
        "\n",
        "# GridSearchCV를 사용하여 최적의 하이퍼파라미터 조합 탐색을 위한 하이퍼파라미터 그리드 설정\n",
        "param_grid = {\n",
        "    'n_estimators': [50, 100, 150],\n",
        "    'learning_rate': [0.01, 0.1, 0.5],\n",
        "    'max_depth': [3, 5, 7],\n",
        "    'min_samples_split': [2, 5, 10],\n",
        "    'min_samples_leaf': [1, 2, 4],\n",
        "    'subsample': [0.6, 0.8, 1.0]\n",
        "}\n",
        "\n",
        "# GridSearchCV를 사용하여 최적의 하이퍼파라미터 조합 탐색\n",
        "grid_search_gb_1 = GridSearchCV(gb_1, param_grid=param_grid, scoring='accuracy', cv=10)\n",
        "grid_search_gb_1.fit(train, trainlabels)\n",
        "\n",
        "# 최적의 파라미터 출력\n",
        "print('Best parameters:', grid_search_gb_1.best_params_)"
      ],
      "metadata": {
        "id": "hEafP4zQoOVD"
      },
      "execution_count": null,
      "outputs": []
    },
    {
      "cell_type": "code",
      "source": [
        "gb_1_best = grid_search_gb_1.best_estimator_"
      ],
      "metadata": {
        "id": "dtyme3TbpCJi"
      },
      "execution_count": null,
      "outputs": []
    },
    {
      "cell_type": "code",
      "source": [
        "gb_1_best.fit(train, trainlabels) # best 모델 학습\n",
        "print(gb_1_best.predict(test)[:10]) # best 모델 예측 결과 10개 출력\n",
        "\n",
        "## GridSearchCV로 탐색한 best 하이퍼파라미터 조합의 prediction\n",
        "pred = gb_1_best.predict(test)\n",
        "print('Score for gbm:', cross_val_score(gb_1_best, train, trainlabels, cv=10, scoring='accuracy').mean()) #교차 검증을 통한 성능평가\n",
        "print('best estimator gbm:', grid_search_gb_1.best_estimator_, 'Best Score', grid_search_gb_1.best_estimator_.score(train, trainlabels)) #훈련 데이터에 대한 단일 성능 지표"
      ],
      "metadata": {
        "id": "8JYle-uxpCWs"
      },
      "execution_count": null,
      "outputs": []
    }
  ]
}